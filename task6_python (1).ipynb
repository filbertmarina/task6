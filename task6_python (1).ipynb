{
 "cells": [
  {
   "cell_type": "code",
   "execution_count": 19,
   "id": "08d9ce98",
   "metadata": {},
   "outputs": [
    {
     "name": "stdout",
     "output_type": "stream",
     "text": [
      "tensor([0.9892, 0.1633, 0.7806,  ..., 0.3676, 0.3268, 0.9370])\n",
      "0.3824477791786194 tensor([0.3824], grad_fn=<SigmoidBackward0>)\n"
     ]
    }
   ],
   "source": [
    "import torch\n",
    "\n",
    "import torch.nn as nn\n",
    "\n",
    "\n",
    "\n",
    "class Net(nn.Module):\n",
    "\n",
    "    def __init__(self):\n",
    "\n",
    "        super(Net, self).__init__()\n",
    "\n",
    "        self.fc1 = nn.Linear(32**2, 16**2) # входной слой\n",
    "\n",
    "        self.fc2 = nn.Linear(16**2, 4**2) # скрытый слой\n",
    "\n",
    "        self.fc3 = nn.Linear(4 ** 2,1) # скрытый слой\n",
    "\n",
    "# прямое распространение информации\n",
    "\n",
    "    def forward(self, x):\n",
    "\n",
    "        sigmoid = nn.Sigmoid()\n",
    "\n",
    "        x = sigmoid(self.fc1(x))\n",
    "\n",
    "        x = sigmoid(self.fc2(x))\n",
    "\n",
    "        x = sigmoid(self.fc3(x))\n",
    "\n",
    "        return x\n",
    "\n",
    "\n",
    "\n",
    "\n",
    "\n",
    "input_layer = torch.rand(32**2) # входные данные нейронной сети\n",
    "print((input_layer))\n",
    "\n",
    "net = Net() # создание объекта \"нейронная сеть\"\n",
    "\n",
    "result = net(input_layer) # запуск прямого распространения информации\n",
    "\n",
    "print(result.item(), result)"
   ]
  },
  {
   "cell_type": "code",
   "execution_count": 22,
   "id": "15628404",
   "metadata": {},
   "outputs": [],
   "source": [
    "f = open('C:\\DEV\\paral\\\\task6\\input.bin', 'wb')\n",
    "for item in input_layer:\n",
    "    s = str(item) + '\\n'\n",
    "    bt = s.encode()\n",
    "    f.write(bt) \n",
    "f.close()\n"
   ]
  },
  {
   "cell_type": "code",
   "execution_count": 26,
   "id": "5da156e3",
   "metadata": {},
   "outputs": [],
   "source": [
    "counter, save = 1,1\n",
    "for j in net.parameters():\n",
    "    if counter%2 == 1:\n",
    "        f = open('C:\\DEV\\paral\\\\task6\\weights'+str(save)+'.bin', 'wb')\n",
    "        for item in j.detach().numpy().flatten():\n",
    "            s = str(item) + '\\n'\n",
    "            bt = s.encode()\n",
    "            f.write(bt) \n",
    "        f.close()\n",
    "    else:\n",
    "        f = open('C:\\DEV\\paral\\\\task6\\\\biases'+str(save)+'.bin', 'wb')\n",
    "        for item in j.detach().numpy().flatten():\n",
    "            s = str(item) + '\\n'\n",
    "            bt = s.encode()\n",
    "            f.write(bt) \n",
    "        f.close()\n",
    "        save+=1\n",
    "    counter+=1"
   ]
  },
  {
   "cell_type": "code",
   "execution_count": null,
   "id": "116b548c",
   "metadata": {},
   "outputs": [],
   "source": []
  }
 ],
 "metadata": {
  "kernelspec": {
   "display_name": "Python 3 (ipykernel)",
   "language": "python",
   "name": "python3"
  },
  "language_info": {
   "codemirror_mode": {
    "name": "ipython",
    "version": 3
   },
   "file_extension": ".py",
   "mimetype": "text/x-python",
   "name": "python",
   "nbconvert_exporter": "python",
   "pygments_lexer": "ipython3",
   "version": "3.10.9"
  }
 },
 "nbformat": 4,
 "nbformat_minor": 5
}
