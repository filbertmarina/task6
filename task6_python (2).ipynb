{
 "cells": [
  {
   "cell_type": "code",
   "execution_count": 39,
   "id": "08d9ce98",
   "metadata": {},
   "outputs": [],
   "source": [
    "import torch\n",
    "\n",
    "import torch.nn as nn\n",
    "\n"
   ]
  },
  {
   "cell_type": "code",
   "execution_count": 40,
   "id": "4dfdbf87",
   "metadata": {},
   "outputs": [],
   "source": [
    "def save_bin(path, inn):\n",
    "    f = open(path, 'wb')\n",
    "    for item in inn:\n",
    "        s = str(item) + '\\n'\n",
    "        bt = s.encode()\n",
    "        f.write(bt) \n",
    "    f.close()"
   ]
  },
  {
   "cell_type": "code",
   "execution_count": 41,
   "id": "f1e75f5a",
   "metadata": {},
   "outputs": [],
   "source": [
    "class Net(nn.Module):\n",
    "    def __init__(self):\n",
    "        super(Net, self).__init__()\n",
    "        self.fc1 = nn.Linear(32**2, 16**2) # входной слой\n",
    "        self.fc2 = nn.Linear(16**2, 4**2) # скрытый слой\n",
    "        self.fc3 = nn.Linear(4**2,1) # скрытый слой\n",
    "\n",
    "    def forward(self, x):\n",
    "        sigmoid = nn.Sigmoid()\n",
    "        x = self.fc1(x)\n",
    "        x = sigmoid(x)\n",
    "        x = self.fc2(x)\n",
    "        x = sigmoid(x)\n",
    "        x = sigmoid(self.fc3(x))\n",
    "        return x"
   ]
  },
  {
   "cell_type": "code",
   "execution_count": 45,
   "id": "116b548c",
   "metadata": {},
   "outputs": [
    {
     "name": "stdout",
     "output_type": "stream",
     "text": [
      "0.2189053242332\n"
     ]
    }
   ],
   "source": [
    "input_layer = torch.rand(32**2) # входные данные нейронной сети\n",
    "net = Net() # создание объекта \"нейронная сеть\"\n",
    "save_bin('C:\\DEV\\paral\\\\task6\\input.bin', input_layer.detach().numpy())\n",
    "result = net(input_layer)# запуск прямого распространения информации\n",
    "print(result.item())"
   ]
  },
  {
   "cell_type": "code",
   "execution_count": 43,
   "id": "b8fe7fa7",
   "metadata": {},
   "outputs": [],
   "source": [
    "save, counter = 1, 1\n",
    "for j in net.parameters():\n",
    "    if counter%2 == 1:\n",
    "        save_bin(f'C:\\DEV\\paral\\\\task6\\weights{save}.bin', j.detach().numpy().flatten())\n",
    "    else:\n",
    "        save_bin(f'C:\\DEV\\paral\\\\task6\\\\biases{save}.bin', j.detach().numpy().flatten())\n",
    "        save+=1\n",
    "    counter+=1"
   ]
  },
  {
   "cell_type": "code",
   "execution_count": null,
   "id": "96444c12",
   "metadata": {},
   "outputs": [],
   "source": []
  }
 ],
 "metadata": {
  "kernelspec": {
   "display_name": "Python 3 (ipykernel)",
   "language": "python",
   "name": "python3"
  },
  "language_info": {
   "codemirror_mode": {
    "name": "ipython",
    "version": 3
   },
   "file_extension": ".py",
   "mimetype": "text/x-python",
   "name": "python",
   "nbconvert_exporter": "python",
   "pygments_lexer": "ipython3",
   "version": "3.10.9"
  }
 },
 "nbformat": 4,
 "nbformat_minor": 5
}
